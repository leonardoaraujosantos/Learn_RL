{
 "cells": [
  {
   "cell_type": "markdown",
   "metadata": {},
   "source": [
    "# Dynamic Programming\n",
    "Basically we solve the Bellman optimality equation using these methods:\n",
    "* Value Iteration\n",
    "* Policy Iteration\n",
    "From the perspective of the quality of the policy found both methods will work, but they are the base of more advanced methodologies.\n",
    "\n",
    "### References\n",
    "* [Artificial Intelligence](https://github.com/aimacode/aima-python)\n",
    "* [MDP code sample](http://aima.cs.berkeley.edu/python/mdp.html)"
   ]
  },
  {
   "cell_type": "code",
   "execution_count": 1,
   "metadata": {},
   "outputs": [],
   "source": [
    "from grid_world.grid_samples import *\n",
    "from grid_world.grid_actions import GridActions\n",
    "from grid_world.gridworld_mdp import *"
   ]
  },
  {
   "cell_type": "code",
   "execution_count": 2,
   "metadata": {},
   "outputs": [
    {
     "name": "stdout",
     "output_type": "stream",
     "text": [
      "[[' ', ' ', ' ', 1], [' ', '#', ' ', -1], ['S', ' ', ' ', ' ']]\n"
     ]
    }
   ],
   "source": [
    "grid_string = get_book_grid()\n",
    "print(grid_string)"
   ]
  },
  {
   "cell_type": "code",
   "execution_count": 3,
   "metadata": {},
   "outputs": [
    {
     "name": "stdout",
     "output_type": "stream",
     "text": [
      "Grid shape: (3, 4)\n",
      "All actions: ['up', 'down', 'left', 'right']\n",
      "Number of states: 11\n",
      "States: {(0, 1), (1, 2), (0, 0), (1, 3), (2, 1), (2, 0), (2, 3), (2, 2), (1, 0), (0, 2), (0, 3)}\n",
      "Start state: (2, 0)\n",
      "Rewards on each state\n",
      "\tState: (0, 1) Reward: 0\n",
      "\tState: (1, 2) Reward: 0\n",
      "\tState: (0, 0) Reward: 0\n",
      "\tState: (1, 3) Reward: -1\n",
      "\tState: (2, 1) Reward: 0\n",
      "\tState: (2, 0) Reward: 0\n",
      "\tState: (2, 3) Reward: 0\n",
      "\tState: (2, 2) Reward: 0\n",
      "\tState: (1, 0) Reward: 0\n",
      "\tState: (0, 2) Reward: 0\n",
      "\tState: (0, 3) Reward: 1\n"
     ]
    }
   ],
   "source": [
    "grid_world = GridWorld(grid_string)\n",
    "grid_world.gamma = 0.9\n",
    "print('Grid shape:', grid_world.shape)\n",
    "print('All actions:', grid_world.all_actions)\n",
    "print('Number of states:', grid_world.num_states)\n",
    "print('States:', grid_world.states)\n",
    "print('Start state:', grid_world.start_state)\n",
    "print('Rewards on each state')\n",
    "for st in grid_world.states:\n",
    "    print('\\tState:' , st,'Reward:', grid_world.R(st))"
   ]
  },
  {
   "cell_type": "markdown",
   "metadata": {},
   "source": [
    "### Solve with Value iteration"
   ]
  },
  {
   "cell_type": "code",
   "execution_count": 4,
   "metadata": {},
   "outputs": [
    {
     "name": "stdout",
     "output_type": "stream",
     "text": [
      "Value: {(0, 1): 0.7443801180533612, (1, 2): 0.5718590147306759, (0, 0): 0.644967826744644, (2, 1): 0.43075218166042545, (0, 2): 0.8477662714927859, (2, 0): 0.49065027469590516, (1, 3): -1.0, (2, 3): 0.27724220363051516, (2, 2): 0.4754426095304643, (1, 0): 0.5663098424341917, (0, 3): 1.0}\n",
      "Policy(From Value iteration):\n",
      "\tState: (0, 1) action: right\n",
      "\tState: (1, 2) action: down\n",
      "\tState: (0, 0) action: right\n",
      "\tState: (1, 3) action: None\n",
      "\tState: (2, 1) action: left\n",
      "\tState: (2, 0) action: down\n",
      "\tState: (2, 3) action: left\n",
      "\tState: (2, 2) action: down\n",
      "\tState: (1, 0) action: down\n",
      "\tState: (0, 2) action: right\n",
      "\tState: (0, 3) action: None\n"
     ]
    }
   ],
   "source": [
    "value_mdp = value_iteration(grid_world)\n",
    "policy_val = best_policy(grid_world, value_mdp)\n",
    "print('Value:',value_mdp)\n",
    "print('Policy(From Value iteration):')\n",
    "for st in grid_world.states:\n",
    "    print('\\tState:', st, 'action:', GridActions.action_to_str(policy_val[st]))"
   ]
  },
  {
   "cell_type": "markdown",
   "metadata": {},
   "source": [
    "### Solve with policy Iteration"
   ]
  },
  {
   "cell_type": "code",
   "execution_count": 5,
   "metadata": {},
   "outputs": [
    {
     "name": "stdout",
     "output_type": "stream",
     "text": [
      "Policy(From Policy iteration):\n",
      "\tState: (0, 1) action: up\n",
      "\tState: (1, 2) action: left\n",
      "\tState: (0, 0) action: up\n",
      "\tState: (1, 3) action: None\n",
      "\tState: (2, 1) action: up\n",
      "\tState: (2, 0) action: up\n",
      "\tState: (2, 3) action: up\n",
      "\tState: (2, 2) action: up\n",
      "\tState: (1, 0) action: up\n",
      "\tState: (0, 2) action: right\n",
      "\tState: (0, 3) action: None\n"
     ]
    }
   ],
   "source": [
    "policy_iter = policy_iteration(grid_world)\n",
    "print('Policy(From Policy iteration):')\n",
    "for st in grid_world.states:\n",
    "    print('\\tState:', st, 'action:', GridActions.action_to_str(policy_iter[st]))"
   ]
  }
 ],
 "metadata": {
  "kernelspec": {
   "display_name": "Python 3",
   "language": "python",
   "name": "python3"
  },
  "language_info": {
   "codemirror_mode": {
    "name": "ipython",
    "version": 3
   },
   "file_extension": ".py",
   "mimetype": "text/x-python",
   "name": "python",
   "nbconvert_exporter": "python",
   "pygments_lexer": "ipython3",
   "version": "3.5.2"
  }
 },
 "nbformat": 4,
 "nbformat_minor": 2
}
