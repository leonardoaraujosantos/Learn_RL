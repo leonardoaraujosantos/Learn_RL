{
 "cells": [
  {
   "cell_type": "markdown",
   "metadata": {},
   "source": [
    "# Dynamic Programming\n",
    "Basically we solve the Bellman optimality equation using these methods:\n",
    "* Value Iteration\n",
    "* Policy Iteration\n",
    "From the perspective of the quality of the policy found both methods will work, but they are the base of more advanced methodologies.\n",
    "\n",
    "### References\n",
    "* [Artificial Intelligence](https://github.com/aimacode/aima-python)\n",
    "* [MDP code sample](http://aima.cs.berkeley.edu/python/mdp.html)"
   ]
  },
  {
   "cell_type": "code",
   "execution_count": 1,
   "metadata": {
    "collapsed": true
   },
   "outputs": [],
   "source": [
    "from grid_world.grid_samples import *\n",
    "from grid_world.grid_actions import GridActions\n",
    "from grid_world.gridworld_mdp import *\n",
    "\n",
    "import matplotlib.pyplot as plt\n",
    "import collections\n",
    "#from collections import defaultdict"
   ]
  },
  {
   "cell_type": "markdown",
   "metadata": {},
   "source": [
    "## Grid World\n",
    "![title](imgs/GridWorldBook.png)"
   ]
  },
  {
   "cell_type": "code",
   "execution_count": 2,
   "metadata": {
    "collapsed": false
   },
   "outputs": [
    {
     "name": "stdout",
     "output_type": "stream",
     "text": [
      "[[' ', ' ', ' ', 1], [' ', '#', ' ', -1], ['S', ' ', ' ', ' ']]\n"
     ]
    }
   ],
   "source": [
    "grid_string = get_book_grid()\n",
    "print(grid_string)"
   ]
  },
  {
   "cell_type": "code",
   "execution_count": 3,
   "metadata": {
    "collapsed": false
   },
   "outputs": [
    {
     "name": "stdout",
     "output_type": "stream",
     "text": [
      "Grid shape: (3, 4)\n",
      "All actions: ['up', 'down', 'left', 'right']\n",
      "Number of states: 11\n",
      "States: {(0, 1), (1, 2), (0, 0), (1, 3), (2, 1), (2, 0), (2, 3), (2, 2), (1, 0), (0, 2), (0, 3)}\n",
      "Start state: (2, 0)\n",
      "Rewards on each state\n",
      "\tState: (0, 1) Reward: 0\n",
      "\tState: (1, 2) Reward: 0\n",
      "\tState: (0, 0) Reward: 0\n",
      "\tState: (1, 3) Reward: -1\n",
      "\tState: (2, 1) Reward: 0\n",
      "\tState: (2, 0) Reward: 0\n",
      "\tState: (2, 3) Reward: 0\n",
      "\tState: (2, 2) Reward: 0\n",
      "\tState: (1, 0) Reward: 0\n",
      "\tState: (0, 2) Reward: 0\n",
      "\tState: (0, 3) Reward: 1\n"
     ]
    }
   ],
   "source": [
    "grid_world = GridWorld(grid_string)\n",
    "#grid_world.gamma = 0.1\n",
    "grid_world.gamma = 0.9\n",
    "print('Grid shape:', grid_world.shape)\n",
    "print('All actions:', grid_world.all_actions)\n",
    "print('Number of states:', grid_world.num_states)\n",
    "print('States:', grid_world.states)\n",
    "print('Start state:', grid_world.start_state)\n",
    "print('Rewards on each state')\n",
    "for st in grid_world.states:\n",
    "    print('\\tState:' , st,'Reward:', grid_world.R(st))"
   ]
  },
  {
   "cell_type": "markdown",
   "metadata": {},
   "source": [
    "### Solve with Value iteration"
   ]
  },
  {
   "cell_type": "code",
   "execution_count": 4,
   "metadata": {
    "collapsed": true
   },
   "outputs": [],
   "source": [
    "def value_iteration_iter(mdp, iterations=30):\n",
    "    U_over_time = []\n",
    "    U1 = {s: 0 for s in mdp.states}\n",
    "    R, T, gamma = mdp.R, mdp.T, mdp.gamma\n",
    "    for _ in range(iterations):\n",
    "        U = U1.copy()\n",
    "        for s in mdp.states:            \n",
    "            U1[s] = R(s) + gamma * max([sum([p * U[s1] for (p, s1) in T(s, a)])for a in mdp.possible_actions(s)])\n",
    "        U_over_time.append(U)\n",
    "    return U_over_time"
   ]
  },
  {
   "cell_type": "code",
   "execution_count": 5,
   "metadata": {
    "collapsed": false
   },
   "outputs": [
    {
     "name": "stdout",
     "output_type": "stream",
     "text": [
      "Value Function\n",
      "coordinate: (0, 1) ==> 0.7443801180533612\n",
      "coordinate: (1, 2) ==> 0.5718590147306759\n",
      "coordinate: (0, 0) ==> 0.644967826744644\n",
      "coordinate: (1, 3) ==> -1.0\n",
      "coordinate: (2, 1) ==> 0.43075218166042545\n",
      "coordinate: (2, 0) ==> 0.49065027469590516\n",
      "coordinate: (2, 3) ==> 0.27724220363051516\n",
      "coordinate: (2, 2) ==> 0.4754426095304643\n",
      "coordinate: (1, 0) ==> 0.5663098424341917\n",
      "coordinate: (0, 2) ==> 0.8477662714927858\n",
      "coordinate: (0, 3) ==> 1.0\n",
      "Policy(From Value iteration):\n",
      "\tState: (0, 1) action: right\n",
      "\tState: (1, 2) action: up\n",
      "\tState: (0, 0) action: right\n",
      "\tState: (1, 3) action: None\n",
      "\tState: (2, 1) action: left\n",
      "\tState: (2, 0) action: up\n",
      "\tState: (2, 3) action: left\n",
      "\tState: (2, 2) action: up\n",
      "\tState: (1, 0) action: up\n",
      "\tState: (0, 2) action: right\n",
      "\tState: (0, 3) action: None\n"
     ]
    }
   ],
   "source": [
    "value_mdp = value_iteration(grid_world)\n",
    "policy_val = best_policy(grid_world, value_mdp)\n",
    "print('Value Function')\n",
    "for key, value in value_mdp.items():    \n",
    "    print ('coordinate:',key, '==>',value)\n",
    "print('Policy(From Value iteration):')\n",
    "for st in grid_world.states:\n",
    "    print('\\tState:', st, 'action:', GridActions.action_to_str(policy_val[st]))"
   ]
  },
  {
   "cell_type": "markdown",
   "metadata": {},
   "source": [
    "### Solve with policy Iteration"
   ]
  },
  {
   "cell_type": "code",
   "execution_count": 6,
   "metadata": {
    "collapsed": false
   },
   "outputs": [
    {
     "name": "stdout",
     "output_type": "stream",
     "text": [
      "Policy(From Policy iteration):\n",
      "\tState: (0, 1) action: up\n",
      "\tState: (1, 2) action: left\n",
      "\tState: (0, 0) action: up\n",
      "\tState: (1, 3) action: None\n",
      "\tState: (2, 1) action: up\n",
      "\tState: (2, 0) action: up\n",
      "\tState: (2, 3) action: down\n",
      "\tState: (2, 2) action: up\n",
      "\tState: (1, 0) action: up\n",
      "\tState: (0, 2) action: right\n",
      "\tState: (0, 3) action: None\n"
     ]
    }
   ],
   "source": [
    "policy_iter = policy_iteration(grid_world)\n",
    "print('Policy(From Policy iteration):')\n",
    "for st in grid_world.states:\n",
    "    print('\\tState:', st, 'action:', GridActions.action_to_str(policy_iter[st]))"
   ]
  },
  {
   "cell_type": "markdown",
   "metadata": {},
   "source": [
    "## Iteractive Demo"
   ]
  },
  {
   "cell_type": "code",
   "execution_count": 7,
   "metadata": {
    "collapsed": true
   },
   "outputs": [],
   "source": [
    "def make_plot_grid_step_function(columns, rows, U_over_time):\n",
    "    \"\"\"ipywidgets interactive function supports single parameter as input.\n",
    "    This function creates and return such a function by taking as input\n",
    "    other parameters.\"\"\"\n",
    "\n",
    "    def plot_grid_step(iteration):\n",
    "        # Get data\n",
    "        data = U_over_time[iteration]\n",
    "        # Fast dictionary\n",
    "        data = collections.defaultdict(lambda: 0, data)\n",
    "        grid = []\n",
    "        for row in range(rows):\n",
    "            current_row = []\n",
    "            for column in range(columns):\n",
    "                #current_row.append(data[(column, row)])\n",
    "                current_row.append(data[(row, column)])\n",
    "            grid.append(current_row)\n",
    "        grid.reverse() # output like book\n",
    "        fig = plt.imshow(grid, cmap=plt.cm.bwr, interpolation='nearest')\n",
    "\n",
    "        plt.axis('off')\n",
    "        fig.axes.get_xaxis().set_visible(False)\n",
    "        fig.axes.get_yaxis().set_visible(False)\n",
    "\n",
    "        for col in range(len(grid)):\n",
    "            for row in range(len(grid[0])):\n",
    "                magic = grid[col][row]\n",
    "                fig.axes.text(row, col, \"{0:.2f}\".format(magic), va='center', ha='center')\n",
    "\n",
    "        plt.show()\n",
    "\n",
    "    return plot_grid_step"
   ]
  },
  {
   "cell_type": "code",
   "execution_count": 8,
   "metadata": {
    "collapsed": false
   },
   "outputs": [
    {
     "data": {
      "image/png": "[encoded data removed]",
      "text/plain": [
       "<matplotlib.figure.Figure at 0x7f00f577d160>"
      ]
     },
     "metadata": {},
     "output_type": "display_data"
    }
   ],
   "source": [
    "import ipywidgets as widgets\n",
    "from IPython.display import display\n",
    "\n",
    "# Grid dimensions\n",
    "columns = 4\n",
    "rows = 3\n",
    "U_over_time = value_iteration_iter(grid_world)\n",
    "\n",
    "# Add Slider\n",
    "iteration_slider = widgets.IntSlider(min=1, max=29, step=1, value=0)\n",
    "w=widgets.interactive(make_plot_grid_step_function(columns, rows, U_over_time),iteration=iteration_slider)\n",
    "#w=widgets.interactive(make_plot_grid_step_function(rows, columns, U_over_time),iteration=iteration_slider)\n",
    "display(w)"
   ]
  }
 ],
 "metadata": {
  "kernelspec": {
   "display_name": "Python 3",
   "language": "python",
   "name": "python3"
  },
  "language_info": {
   "codemirror_mode": {
    "name": "ipython",
    "version": 3
   },
   "file_extension": ".py",
   "mimetype": "text/x-python",
   "name": "python",
   "nbconvert_exporter": "python",
   "pygments_lexer": "ipython3",
   "version": "3.6.0"
  },
  "widgets": {
   "state": {
    "14bad2c2ee8949e18b6c94d100dbf32e": {
     "views": [
      {
       "cell_index": 12
      }
     ]
    }
   },
   "version": "1.2.0"
  }
 },
 "nbformat": 4,
 "nbformat_minor": 2
}
