{
 "cells": [
  {
   "cell_type": "code",
   "execution_count": 12,
   "metadata": {},
   "outputs": [],
   "source": [
    "import gym\n",
    "import numpy as np\n",
    "import random\n",
    "import torch\n",
    "import torch.nn as nn\n",
    "import torch.optim as optim\n",
    "from torch.autograd import Variable\n",
    "from torch.utils.data import DataLoader\n",
    "from torch.utils.data import sampler\n",
    "import matplotlib.pyplot as plt\n",
    "%matplotlib inline"
   ]
  },
  {
   "cell_type": "code",
   "execution_count": 13,
   "metadata": {},
   "outputs": [
    {
     "name": "stderr",
     "output_type": "stream",
     "text": [
      "[2017-09-11 13:20:18,431] Making new env: FrozenLake-v0\n"
     ]
    }
   ],
   "source": [
    "env = gym.make('FrozenLake-v0')"
   ]
  },
  {
   "cell_type": "code",
   "execution_count": 15,
   "metadata": {
    "collapsed": true
   },
   "outputs": [],
   "source": [
    "dtype = torch.FloatTensor # the CPU datatype\n",
    "\n",
    "# This is a little utility that we'll use to reset the model\n",
    "# if we want to re-initialize all our parameters\n",
    "def reset(m):\n",
    "    if hasattr(m, 'reset_parameters'):\n",
    "        m.reset_parameters()"
   ]
  },
  {
   "cell_type": "code",
   "execution_count": 86,
   "metadata": {},
   "outputs": [
    {
     "data": {
      "text/plain": [
       "Sequential (\n",
       "  (0): Linear (16 -> 4)\n",
       ")"
      ]
     },
     "execution_count": 86,
     "metadata": {},
     "output_type": "execute_result"
    }
   ],
   "source": [
    "model = nn.Sequential(\n",
    "        nn.Linear(16,4),\n",
    "        )\n",
    "\n",
    "model=model.type(dtype)\n",
    "loss_fn = nn.MSELoss()\n",
    "optimizer = optim.SGD(model.parameters(),lr=0.1)\n",
    "\n",
    "model.train()"
   ]
  },
  {
   "cell_type": "code",
   "execution_count": 100,
   "metadata": {},
   "outputs": [
    {
     "name": "stdout",
     "output_type": "stream",
     "text": [
      "Percent of succesful episodes: 0.0245%\n"
     ]
    }
   ],
   "source": [
    "#Set learning parameters\n",
    "y = .99\n",
    "e = 0.1\n",
    "num_episodes = 2000\n",
    "#create lists to contain total rewards and steps per episode\n",
    "jList = []\n",
    "rList = []\n",
    "\n",
    "for i in range(num_episodes):\n",
    "    \n",
    "    s = env.reset()\n",
    "    rAll = 0\n",
    "    d = False\n",
    "    j = 0\n",
    "    \n",
    "    #The Q-Network\n",
    "    while j < 99:\n",
    "        j+=1\n",
    "        network_in = torch.from_numpy(np.identity(16)[s:s+1])\n",
    "        allQ = model(Variable(network_in.type(dtype)))\n",
    "        \n",
    "        _, a = torch.max(allQ, dim=1)\n",
    "        \n",
    "        if np.random.rand(1) < e:\n",
    "            a[0] = env.action_space.sample()\n",
    "        \n",
    "        #Get new state and reward from environment\n",
    "        s1,r,d,_ = env.step(a[0].data.numpy()[0])\n",
    "        \n",
    "        #Obtain the Q' values by feeding the new state through our network\n",
    "        network_in2 = torch.from_numpy(np.identity(16)[s1:s1+1])\n",
    "        Q1 = model(Variable(network_in2.type(dtype)))\n",
    "   \n",
    "        #Obtain maxQ' and set our target value for chosen action.\n",
    "        maxQ1, _ = torch.max(Q1, dim=1)\n",
    "        targetQ = allQ\n",
    "        \n",
    "        targetQ[0,a[0].data.numpy()[0]] = r + y*maxQ1\n",
    "        \n",
    "        #Train\n",
    "        optimizer.zero_grad()\n",
    "            \n",
    "        network_in3 = torch.from_numpy(np.identity(16)[s:s+1])\n",
    "        output = model(Variable(network_in3.type(dtype)))\n",
    "        \n",
    "        \n",
    "        #print(list(model.parameters()))\n",
    "        label = targetQ\n",
    "        \n",
    "        loss = torch.sum(torch.pow(output - label,2))    \n",
    "        loss.backward()\n",
    "        optimizer.step()\n",
    "            \n",
    "        rAll += r\n",
    "        s = s1\n",
    "        if d == True:\n",
    "            #Reduce chance of random action as we train the model.\n",
    "            e = 1./((i/50) + 10)\n",
    "            break\n",
    "                \n",
    "    jList.append(j)\n",
    "    rList.append(rAll)\n",
    "print(\"Percent of succesful episodes: \" + str(sum(rList)/num_episodes) + \"%\")\n",
    "\n",
    "                "
   ]
  },
  {
   "cell_type": "code",
   "execution_count": 91,
   "metadata": {},
   "outputs": [
    {
     "data": {
      "text/plain": [
       "[<matplotlib.lines.Line2D at 0x25a5611d7f0>]"
      ]
     },
     "execution_count": 91,
     "metadata": {},
     "output_type": "execute_result"
    },
    {
     "data": {
      "image/png": "[encoded data removed]",
      "text/plain": [
       "<matplotlib.figure.Figure at 0x25a55cbfb70>"
      ]
     },
     "metadata": {},
     "output_type": "display_data"
    }
   ],
   "source": [
    "plt.plot(rList)"
   ]
  },
  {
   "cell_type": "code",
   "execution_count": 92,
   "metadata": {},
   "outputs": [
    {
     "data": {
      "text/plain": [
       "[<matplotlib.lines.Line2D at 0x25a561e6588>]"
      ]
     },
     "execution_count": 92,
     "metadata": {},
     "output_type": "execute_result"
    },
    {
     "data": {
      "image/png": "[encoded data removed]",
      "text/plain": [
       "<matplotlib.figure.Figure at 0x25a56143ba8>"
      ]
     },
     "metadata": {},
     "output_type": "display_data"
    }
   ],
   "source": [
    "plt.plot(jList)"
   ]
  },
  {
   "cell_type": "code",
   "execution_count": null,
   "metadata": {
    "collapsed": true
   },
   "outputs": [],
   "source": []
  }
 ],
 "metadata": {
  "kernelspec": {
   "display_name": "Python 3",
   "language": "python",
   "name": "python3"
  },
  "language_info": {
   "codemirror_mode": {
    "name": "ipython",
    "version": 3
   },
   "file_extension": ".py",
   "mimetype": "text/x-python",
   "name": "python",
   "nbconvert_exporter": "python",
   "pygments_lexer": "ipython3",
   "version": "3.6.1"
  }
 },
 "nbformat": 4,
 "nbformat_minor": 2
}
